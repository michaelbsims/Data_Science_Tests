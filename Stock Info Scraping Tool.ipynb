{
 "cells": [
  {
   "cell_type": "code",
   "execution_count": 1,
   "id": "1eb68989",
   "metadata": {},
   "outputs": [
    {
     "name": "stdout",
     "output_type": "stream",
     "text": [
      "Requirement already satisfied: yfinance==0.1.67 in c:\\users\\micha\\anaconda3\\lib\\site-packages (0.1.67)\n",
      "Requirement already satisfied: lxml>=4.5.1 in c:\\users\\micha\\anaconda3\\lib\\site-packages (from yfinance==0.1.67) (4.8.0)\n",
      "Requirement already satisfied: pandas>=0.24 in c:\\users\\micha\\anaconda3\\lib\\site-packages (from yfinance==0.1.67) (1.4.2)\n",
      "Requirement already satisfied: multitasking>=0.0.7 in c:\\users\\micha\\anaconda3\\lib\\site-packages (from yfinance==0.1.67) (0.0.11)\n",
      "Requirement already satisfied: requests>=2.20 in c:\\users\\micha\\anaconda3\\lib\\site-packages (from yfinance==0.1.67) (2.27.1)\n",
      "Requirement already satisfied: numpy>=1.15 in c:\\users\\micha\\anaconda3\\lib\\site-packages (from yfinance==0.1.67) (1.21.5)\n",
      "Requirement already satisfied: python-dateutil>=2.8.1 in c:\\users\\micha\\anaconda3\\lib\\site-packages (from pandas>=0.24->yfinance==0.1.67) (2.8.2)\n",
      "Requirement already satisfied: pytz>=2020.1 in c:\\users\\micha\\anaconda3\\lib\\site-packages (from pandas>=0.24->yfinance==0.1.67) (2021.3)\n",
      "Requirement already satisfied: six>=1.5 in c:\\users\\micha\\anaconda3\\lib\\site-packages (from python-dateutil>=2.8.1->pandas>=0.24->yfinance==0.1.67) (1.16.0)\n",
      "Requirement already satisfied: urllib3<1.27,>=1.21.1 in c:\\users\\micha\\anaconda3\\lib\\site-packages (from requests>=2.20->yfinance==0.1.67) (1.26.9)\n",
      "Requirement already satisfied: idna<4,>=2.5 in c:\\users\\micha\\anaconda3\\lib\\site-packages (from requests>=2.20->yfinance==0.1.67) (3.3)\n",
      "Requirement already satisfied: certifi>=2017.4.17 in c:\\users\\micha\\anaconda3\\lib\\site-packages (from requests>=2.20->yfinance==0.1.67) (2021.10.8)\n",
      "Requirement already satisfied: charset-normalizer~=2.0.0 in c:\\users\\micha\\anaconda3\\lib\\site-packages (from requests>=2.20->yfinance==0.1.67) (2.0.4)\n"
     ]
    }
   ],
   "source": [
    "#make sure yfinance is installed: !pip install yfinance==0.1.67; installs with pandas\n",
    "#Based on exercise from IBM Data Science certificate\n",
    "!pip install yfinance==0.1.67"
   ]
  },
  {
   "cell_type": "code",
   "execution_count": 2,
   "id": "920c1c16",
   "metadata": {},
   "outputs": [],
   "source": [
    "import yfinance as yf\n",
    "import pandas as pd"
   ]
  },
  {
   "cell_type": "code",
   "execution_count": 3,
   "id": "975df881",
   "metadata": {},
   "outputs": [],
   "source": [
    "#assign stock ticker name for Microsoft\n",
    "microsoft = yf.Ticker(\"MSFT\")"
   ]
  },
  {
   "cell_type": "code",
   "execution_count": 4,
   "id": "75290e65",
   "metadata": {},
   "outputs": [
    {
     "data": {
      "text/plain": [
       "{'zip': '98052-6399',\n",
       " 'sector': 'Technology',\n",
       " 'fullTimeEmployees': 221000,\n",
       " 'longBusinessSummary': 'Microsoft Corporation develops, licenses, and supports software, services, devices, and solutions worldwide. The company operates in three segments: Productivity and Business Processes, Intelligent Cloud, and More Personal Computing. The Productivity and Business Processes segment offers Office, Exchange, SharePoint, Microsoft Teams, Office 365 Security and Compliance, Microsoft Viva, and Skype for Business; Skype, Outlook.com, OneDrive, and LinkedIn; and Dynamics 365, a set of cloud-based and on-premises business solutions for organizations and enterprise divisions. The Intelligent Cloud segment licenses SQL, Windows Servers, Visual Studio, System Center, and related Client Access Licenses; GitHub that provides a collaboration platform and code hosting service for developers; Nuance provides healthcare and enterprise AI solutions; and Azure, a cloud platform. It also offers enterprise support, Microsoft consulting, and nuance professional services to assist customers in developing, deploying, and managing Microsoft server and desktop solutions; and training and certification on Microsoft products. The More Personal Computing segment provides Windows original equipment manufacturer (OEM) licensing and other non-volume licensing of the Windows operating system; Windows Commercial, such as volume licensing of the Windows operating system, Windows cloud services, and other Windows commercial offerings; patent licensing; and Windows Internet of Things. It also offers Surface, PC accessories, PCs, tablets, gaming and entertainment consoles, and other devices; Gaming, including Xbox hardware, and Xbox content and services; video games and third-party video game royalties; and Search, including Bing and Microsoft advertising. The company sells its products through OEMs, distributors, and resellers; and directly through digital marketplaces, online stores, and retail stores. Microsoft Corporation was founded in 1975 and is headquartered in Redmond, Washington.',\n",
       " 'city': 'Redmond',\n",
       " 'phone': '425 882 8080',\n",
       " 'state': 'WA',\n",
       " 'country': 'United States',\n",
       " 'companyOfficers': [],\n",
       " 'website': 'https://www.microsoft.com',\n",
       " 'maxAge': 1,\n",
       " 'address1': 'One Microsoft Way',\n",
       " 'fax': '425 706 7329',\n",
       " 'industry': 'Software—Infrastructure',\n",
       " 'ebitdaMargins': 0.48672,\n",
       " 'profitMargins': 0.34366,\n",
       " 'grossMargins': 0.6826,\n",
       " 'operatingCashflow': 87693000704,\n",
       " 'revenueGrowth': 0.106,\n",
       " 'operatingMargins': 0.41691002,\n",
       " 'ebitda': 98841001984,\n",
       " 'targetLowPrice': 234,\n",
       " 'recommendationKey': 'buy',\n",
       " 'grossProfits': 135620000000,\n",
       " 'freeCashflow': 46155874304,\n",
       " 'targetMedianPrice': 290,\n",
       " 'currentPrice': 247.49,\n",
       " 'earningsGrowth': -0.133,\n",
       " 'currentRatio': 1.84,\n",
       " 'returnOnAssets': 0.15223,\n",
       " 'numberOfAnalystOpinions': 45,\n",
       " 'targetMeanPrice': 296.91,\n",
       " 'debtToEquity': 44.442,\n",
       " 'returnOnEquity': 0.42875,\n",
       " 'targetHighPrice': 411,\n",
       " 'totalCash': 107244003328,\n",
       " 'totalDebt': 77136003072,\n",
       " 'totalRevenue': 203074994176,\n",
       " 'totalCashPerShare': 14.387,\n",
       " 'financialCurrency': 'USD',\n",
       " 'revenuePerShare': 27.142,\n",
       " 'quickRatio': 1.585,\n",
       " 'recommendationMean': 1.8,\n",
       " 'exchange': 'NMS',\n",
       " 'shortName': 'Microsoft Corporation',\n",
       " 'longName': 'Microsoft Corporation',\n",
       " 'exchangeTimezoneName': 'America/New_York',\n",
       " 'exchangeTimezoneShortName': 'EST',\n",
       " 'isEsgPopulated': False,\n",
       " 'gmtOffSetMilliseconds': '-18000000',\n",
       " 'quoteType': 'EQUITY',\n",
       " 'symbol': 'MSFT',\n",
       " 'messageBoardId': 'finmb_21835',\n",
       " 'market': 'us_market',\n",
       " 'annualHoldingsTurnover': None,\n",
       " 'enterpriseToRevenue': 8.937,\n",
       " 'beta3Year': None,\n",
       " 'enterpriseToEbitda': 18.361,\n",
       " '52WeekChange': -0.26480114,\n",
       " 'morningStarRiskRating': None,\n",
       " 'forwardEps': 11.18,\n",
       " 'revenueQuarterlyGrowth': None,\n",
       " 'sharesOutstanding': 7454470144,\n",
       " 'fundInceptionDate': None,\n",
       " 'annualReportExpenseRatio': None,\n",
       " 'totalAssets': None,\n",
       " 'bookValue': 23.276,\n",
       " 'sharesShort': 34590231,\n",
       " 'sharesPercentSharesOut': 0.0046,\n",
       " 'fundFamily': None,\n",
       " 'lastFiscalYearEnd': 1656547200,\n",
       " 'heldPercentInstitutions': 0.72239,\n",
       " 'netIncomeToCommon': 69788999680,\n",
       " 'trailingEps': 9.29,\n",
       " 'lastDividendValue': 0.68,\n",
       " 'SandP52WeekChange': -0.13514793,\n",
       " 'priceToBook': 10.632841,\n",
       " 'heldPercentInsiders': 0.00059999997,\n",
       " 'nextFiscalYearEnd': 1719705600,\n",
       " 'yield': None,\n",
       " 'mostRecentQuarter': 1664496000,\n",
       " 'shortRatio': 1.01,\n",
       " 'sharesShortPreviousMonthDate': 1665705600,\n",
       " 'floatShares': 7447913208,\n",
       " 'beta': 0.91984,\n",
       " 'enterpriseValue': 1814799581184,\n",
       " 'priceHint': 2,\n",
       " 'threeYearAverageReturn': None,\n",
       " 'lastSplitDate': 1045526400,\n",
       " 'lastSplitFactor': '2:1',\n",
       " 'legalType': None,\n",
       " 'lastDividendDate': 1668556800,\n",
       " 'morningStarOverallRating': None,\n",
       " 'earningsQuarterlyGrowth': -0.144,\n",
       " 'priceToSalesTrailing12Months': 9.084855,\n",
       " 'dateShortInterest': 1668470400,\n",
       " 'pegRatio': 1.99,\n",
       " 'ytdReturn': None,\n",
       " 'forwardPE': 22.136852,\n",
       " 'lastCapGain': None,\n",
       " 'shortPercentOfFloat': 0.0046,\n",
       " 'sharesShortPriorMonth': 38213792,\n",
       " 'impliedSharesOutstanding': 0,\n",
       " 'category': None,\n",
       " 'fiveYearAverageReturn': None,\n",
       " 'previousClose': 247.58,\n",
       " 'regularMarketOpen': 247.31,\n",
       " 'twoHundredDayAverage': 266.4075,\n",
       " 'trailingAnnualDividendYield': 0.01025931,\n",
       " 'payoutRatio': 0.26700002,\n",
       " 'volume24Hr': None,\n",
       " 'regularMarketDayHigh': 248.68,\n",
       " 'navPrice': None,\n",
       " 'averageDailyVolume10Day': 24669260,\n",
       " 'regularMarketPreviousClose': 247.58,\n",
       " 'fiftyDayAverage': 237.1652,\n",
       " 'trailingAnnualDividendRate': 2.54,\n",
       " 'open': 247.31,\n",
       " 'toCurrency': None,\n",
       " 'averageVolume10days': 24669260,\n",
       " 'expireDate': None,\n",
       " 'algorithm': None,\n",
       " 'dividendRate': 2.72,\n",
       " 'exDividendDate': 1668556800,\n",
       " 'circulatingSupply': None,\n",
       " 'startDate': None,\n",
       " 'regularMarketDayLow': 246.73,\n",
       " 'currency': 'USD',\n",
       " 'trailingPE': 26.640474,\n",
       " 'regularMarketVolume': 9200772,\n",
       " 'lastMarket': None,\n",
       " 'maxSupply': None,\n",
       " 'openInterest': None,\n",
       " 'marketCap': 1844906819584,\n",
       " 'volumeAllCurrencies': None,\n",
       " 'strikePrice': None,\n",
       " 'averageVolume': 29200223,\n",
       " 'dayLow': 246.73,\n",
       " 'ask': 247.68,\n",
       " 'askSize': 900,\n",
       " 'volume': 9200772,\n",
       " 'fiftyTwoWeekHigh': 344.3,\n",
       " 'fromCurrency': None,\n",
       " 'fiveYearAvgDividendYield': 1.18,\n",
       " 'fiftyTwoWeekLow': 213.43,\n",
       " 'bid': 247.45,\n",
       " 'tradeable': False,\n",
       " 'dividendYield': 0.011,\n",
       " 'bidSize': 1000,\n",
       " 'dayHigh': 248.68,\n",
       " 'coinMarketCapLink': None,\n",
       " 'regularMarketPrice': 247.49,\n",
       " 'preMarketPrice': None,\n",
       " 'logo_url': 'https://logo.clearbit.com/microsoft.com'}"
      ]
     },
     "execution_count": 4,
     "metadata": {},
     "output_type": "execute_result"
    }
   ],
   "source": [
    "microsoft_info=microsoft.info\n",
    "microsoft_info"
   ]
  },
  {
   "cell_type": "code",
   "execution_count": 5,
   "id": "9ebf0926",
   "metadata": {},
   "outputs": [
    {
     "data": {
      "text/plain": [
       "'United States'"
      ]
     },
     "execution_count": 5,
     "metadata": {},
     "output_type": "execute_result"
    }
   ],
   "source": [
    "microsoft_info['country']"
   ]
  },
  {
   "cell_type": "code",
   "execution_count": 6,
   "id": "d5b18ab2",
   "metadata": {},
   "outputs": [],
   "source": [
    "#Extracting Share price\n",
    "microsoft_share_price_data = microsoft.history(period=\"max\")"
   ]
  },
  {
   "cell_type": "code",
   "execution_count": 7,
   "id": "3cb110da",
   "metadata": {},
   "outputs": [
    {
     "data": {
      "text/html": [
       "<div>\n",
       "<style scoped>\n",
       "    .dataframe tbody tr th:only-of-type {\n",
       "        vertical-align: middle;\n",
       "    }\n",
       "\n",
       "    .dataframe tbody tr th {\n",
       "        vertical-align: top;\n",
       "    }\n",
       "\n",
       "    .dataframe thead th {\n",
       "        text-align: right;\n",
       "    }\n",
       "</style>\n",
       "<table border=\"1\" class=\"dataframe\">\n",
       "  <thead>\n",
       "    <tr style=\"text-align: right;\">\n",
       "      <th></th>\n",
       "      <th>Open</th>\n",
       "      <th>High</th>\n",
       "      <th>Low</th>\n",
       "      <th>Close</th>\n",
       "      <th>Volume</th>\n",
       "      <th>Dividends</th>\n",
       "      <th>Stock Splits</th>\n",
       "    </tr>\n",
       "    <tr>\n",
       "      <th>Date</th>\n",
       "      <th></th>\n",
       "      <th></th>\n",
       "      <th></th>\n",
       "      <th></th>\n",
       "      <th></th>\n",
       "      <th></th>\n",
       "      <th></th>\n",
       "    </tr>\n",
       "  </thead>\n",
       "  <tbody>\n",
       "    <tr>\n",
       "      <th>1986-03-13</th>\n",
       "      <td>0.055380</td>\n",
       "      <td>0.063524</td>\n",
       "      <td>0.055380</td>\n",
       "      <td>0.060809</td>\n",
       "      <td>1031788800</td>\n",
       "      <td>0.0</td>\n",
       "      <td>0.0</td>\n",
       "    </tr>\n",
       "    <tr>\n",
       "      <th>1986-03-14</th>\n",
       "      <td>0.060809</td>\n",
       "      <td>0.064067</td>\n",
       "      <td>0.060809</td>\n",
       "      <td>0.062980</td>\n",
       "      <td>308160000</td>\n",
       "      <td>0.0</td>\n",
       "      <td>0.0</td>\n",
       "    </tr>\n",
       "    <tr>\n",
       "      <th>1986-03-17</th>\n",
       "      <td>0.062980</td>\n",
       "      <td>0.064610</td>\n",
       "      <td>0.062980</td>\n",
       "      <td>0.064067</td>\n",
       "      <td>133171200</td>\n",
       "      <td>0.0</td>\n",
       "      <td>0.0</td>\n",
       "    </tr>\n",
       "    <tr>\n",
       "      <th>1986-03-18</th>\n",
       "      <td>0.064067</td>\n",
       "      <td>0.064609</td>\n",
       "      <td>0.061894</td>\n",
       "      <td>0.062437</td>\n",
       "      <td>67766400</td>\n",
       "      <td>0.0</td>\n",
       "      <td>0.0</td>\n",
       "    </tr>\n",
       "    <tr>\n",
       "      <th>1986-03-19</th>\n",
       "      <td>0.062437</td>\n",
       "      <td>0.062980</td>\n",
       "      <td>0.060809</td>\n",
       "      <td>0.061351</td>\n",
       "      <td>47894400</td>\n",
       "      <td>0.0</td>\n",
       "      <td>0.0</td>\n",
       "    </tr>\n",
       "  </tbody>\n",
       "</table>\n",
       "</div>"
      ],
      "text/plain": [
       "                Open      High       Low     Close      Volume  Dividends  \\\n",
       "Date                                                                        \n",
       "1986-03-13  0.055380  0.063524  0.055380  0.060809  1031788800        0.0   \n",
       "1986-03-14  0.060809  0.064067  0.060809  0.062980   308160000        0.0   \n",
       "1986-03-17  0.062980  0.064610  0.062980  0.064067   133171200        0.0   \n",
       "1986-03-18  0.064067  0.064609  0.061894  0.062437    67766400        0.0   \n",
       "1986-03-19  0.062437  0.062980  0.060809  0.061351    47894400        0.0   \n",
       "\n",
       "            Stock Splits  \n",
       "Date                      \n",
       "1986-03-13           0.0  \n",
       "1986-03-14           0.0  \n",
       "1986-03-17           0.0  \n",
       "1986-03-18           0.0  \n",
       "1986-03-19           0.0  "
      ]
     },
     "execution_count": 7,
     "metadata": {},
     "output_type": "execute_result"
    }
   ],
   "source": [
    "microsoft_share_price_data.head()"
   ]
  },
  {
   "cell_type": "code",
   "execution_count": 8,
   "id": "fac89b60",
   "metadata": {},
   "outputs": [],
   "source": [
    "#Reset index of Dataframe\n",
    "microsoft_share_price_data.reset_index(inplace=True)"
   ]
  },
  {
   "cell_type": "code",
   "execution_count": 9,
   "id": "110409a6",
   "metadata": {},
   "outputs": [
    {
     "data": {
      "text/plain": [
       "<AxesSubplot:xlabel='Date'>"
      ]
     },
     "execution_count": 9,
     "metadata": {},
     "output_type": "execute_result"
    },
    {
     "data": {
      "image/png": "[encoded data removed]",
      "text/plain": [
       "<Figure size 432x288 with 1 Axes>"
      ]
     },
     "metadata": {
      "needs_background": "light"
     },
     "output_type": "display_data"
    }
   ],
   "source": [
    "#plot open price vs date\n",
    "microsoft_share_price_data.plot(x=\"Date\", y=\"Open\")"
   ]
  },
  {
   "cell_type": "code",
   "execution_count": 10,
   "id": "c727b29a",
   "metadata": {},
   "outputs": [
    {
     "data": {
      "text/plain": [
       "Date\n",
       "2003-02-19    0.08\n",
       "2003-10-15    0.16\n",
       "2004-08-23    0.08\n",
       "2004-11-15    3.08\n",
       "2005-02-15    0.08\n",
       "              ... \n",
       "2021-11-17    0.62\n",
       "2022-02-16    0.62\n",
       "2022-05-18    0.62\n",
       "2022-08-17    0.62\n",
       "2022-11-16    0.68\n",
       "Name: Dividends, Length: 76, dtype: float64"
      ]
     },
     "execution_count": 10,
     "metadata": {},
     "output_type": "execute_result"
    }
   ],
   "source": [
    "#dividends; function of yfinance\n",
    "microsoft.dividends"
   ]
  },
  {
   "cell_type": "code",
   "execution_count": 11,
   "id": "28968f1d",
   "metadata": {},
   "outputs": [
    {
     "data": {
      "text/plain": [
       "<AxesSubplot:xlabel='Date'>"
      ]
     },
     "execution_count": 11,
     "metadata": {},
     "output_type": "execute_result"
    },
    {
     "data": {
      "image/png": "[encoded data removed]",
      "text/plain": [
       "<Figure size 432x288 with 1 Axes>"
      ]
     },
     "metadata": {
      "needs_background": "light"
     },
     "output_type": "display_data"
    }
   ],
   "source": [
    "#plot dividends\n",
    "microsoft.dividends.plot()"
   ]
  },
  {
   "cell_type": "code",
   "execution_count": null,
   "id": "ab36f37a",
   "metadata": {},
   "outputs": [],
   "source": []
  }
 ],
 "metadata": {
  "kernelspec": {
   "display_name": "Python 3 (ipykernel)",
   "language": "python",
   "name": "python3"
  },
  "language_info": {
   "codemirror_mode": {
    "name": "ipython",
    "version": 3
   },
   "file_extension": ".py",
   "mimetype": "text/x-python",
   "name": "python",
   "nbconvert_exporter": "python",
   "pygments_lexer": "ipython3",
   "version": "3.9.12"
  }
 },
 "nbformat": 4,
 "nbformat_minor": 5
}
